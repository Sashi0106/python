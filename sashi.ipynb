{
 "cells": [
  {
   "cell_type": "markdown",
   "id": "d1b1a17f-e15d-4453-83bb-6814b946fae9",
   "metadata": {},
   "source": [
    "#rows=int(input(\"enter rows:\"))\n",
    "pattern=[''.join ([str(num) for num in range(1,i+1)]) for i in range(1,rows+1)]\n",
    "for line in pattern:\n",
    "    print(line)"
   ]
  },
  {
   "cell_type": "code",
   "execution_count": 13,
   "id": "14a6bdb2-e879-489f-a018-32a86a0d4c9b",
   "metadata": {},
   "outputs": [
    {
     "name": "stdin",
     "output_type": "stream",
     "text": [
      "enter rows: 5\n"
     ]
    },
    {
     "name": "stdout",
     "output_type": "stream",
     "text": [
      "1\n",
      "12\n",
      "123\n",
      "1234\n",
      "12345\n"
     ]
    }
   ],
   "source": [
    "#numbers\n",
    "rows=int(input(\"enter rows:\")) \n",
    "pattern=[''.join ([str(num) for num in range(1,i+1)]) for i in range(1,rows+1)]\n",
    "for line in pattern:\n",
    "    print(line)\n",
    "\n"
   ]
  },
  {
   "cell_type": "code",
   "execution_count": 11,
   "id": "37667665-cb6a-4138-8dc8-16224ddc0642",
   "metadata": {},
   "outputs": [
    {
     "name": "stdin",
     "output_type": "stream",
     "text": [
      "enter rows: 5\n"
     ]
    },
    {
     "name": "stdout",
     "output_type": "stream",
     "text": [
      "a\n",
      "ab\n",
      "abc\n",
      "abcd\n",
      "abcde\n"
     ]
    }
   ],
   "source": [
    "#characters\n",
    "rows=int(input(\"enter rows:\")) \n",
    "pattern=[''.join ([chr(97+j) for j in range(i)]) for i in range(1,rows+1)]\n",
    "for line in pattern:\n",
    "    print(line)"
   ]
  },
  {
   "cell_type": "code",
   "execution_count": 19,
   "id": "0df42d69-e7b9-4384-b419-8e2cf6a64a0f",
   "metadata": {},
   "outputs": [
    {
     "name": "stdin",
     "output_type": "stream",
     "text": [
      "enter rows: 5\n"
     ]
    },
    {
     "name": "stdout",
     "output_type": "stream",
     "text": [
      "    *\n",
      "   ***\n",
      "  *****\n",
      " *******\n",
      "*********\n"
     ]
    }
   ],
   "source": [
    "rows=int(input(\"enter rows:\")) \n",
    "pattern=[(' ' * (rows-i) + '*' * (2*i-1)) for i in range(1,rows+1)]\n",
    "for line in pattern:\n",
    "    print(line)"
   ]
  },
  {
   "cell_type": "code",
   "execution_count": 21,
   "id": "8a6f3571-e5cc-481c-aecf-0810bd238b0c",
   "metadata": {},
   "outputs": [
    {
     "name": "stdin",
     "output_type": "stream",
     "text": [
      "enter rows: 5\n"
     ]
    },
    {
     "name": "stdout",
     "output_type": "stream",
     "text": [
      "1234\n",
      "123\n",
      "12\n",
      "1\n"
     ]
    }
   ],
   "source": [
    "rows=int(input(\"enter rows:\")) \n",
    "pattern=[''.join ([str(num) for num in range(1,rows-i+1)]) for i in range(1,rows)]\n",
    "for line in pattern:\n",
    "    print(line)\n"
   ]
  },
  {
   "cell_type": "code",
   "execution_count": 59,
   "id": "029785d5-2817-4e8a-aedc-1472e238b99f",
   "metadata": {},
   "outputs": [
    {
     "name": "stdin",
     "output_type": "stream",
     "text": [
      "enter rows: 5\n"
     ]
    },
    {
     "name": "stdout",
     "output_type": "stream",
     "text": [
      "*       * \n",
      "  *   *   \n",
      "    *     \n",
      "  *   *   \n",
      "*       * \n"
     ]
    }
   ],
   "source": [
    "n=int(input(\"enter rows:\"))\n",
    "pattern=[['* ' if i==j or i+j==n-1 or j==i or i+j==n-1 else '  ' for i in range(n)] for j in range(n)]\n",
    "for i in pattern:\n",
    "    print(''.join(i))"
   ]
  },
  {
   "cell_type": "code",
   "execution_count": 61,
   "id": "50e6fb68-0b07-498b-b865-c6d8b5359874",
   "metadata": {},
   "outputs": [
    {
     "name": "stdin",
     "output_type": "stream",
     "text": [
      "enter rows: 5\n"
     ]
    },
    {
     "name": "stdout",
     "output_type": "stream",
     "text": [
      "* * * * * \n",
      "*       * \n",
      "*       * \n",
      "*       * \n",
      "* * * * * \n"
     ]
    }
   ],
   "source": [
    "n=int(input(\"enter rows:\"))\n",
    "pattern=[['* ' if i==0 or i==n-1 or j==0 or j==n-1 else '  ' for i in range(n)] for j in range(n)]\n",
    "for i in pattern:\n",
    "    print(''.join(i))"
   ]
  },
  {
   "cell_type": "code",
   "execution_count": 95,
   "id": "f376bb4d-14a9-4335-821b-7fad3013fedb",
   "metadata": {},
   "outputs": [
    {
     "name": "stdout",
     "output_type": "stream",
     "text": [
      "     *\n",
      "    * *\n",
      "   *   *\n",
      "  *     *\n",
      " *       *\n",
      "  *     *\n",
      "   *   *  \n",
      "    * *    \n",
      "     *      \n"
     ]
    }
   ],
   "source": [
    "##### n=int(input(\"enter rows:\"))\n",
    "upper=[' '*(n-i)+''.join('*' if j==0 or j==2*i else ' ' for j in range (2*i+1)) for i in range(n)]\n",
    "lower=[' '*(i+2)+''.join('*' if j==0 or j==2*(n-i-2) else ' '  for j in range (2*(n-1)-1)) for i in range(n-1)]\n",
    "for line in upper + lower:\n",
    "       print(line)\n",
    "       \n",
    "      "
   ]
  },
  {
   "cell_type": "code",
   "execution_count": null,
   "id": "3824a6e9-bd7b-4a09-9946-edccb45b4977",
   "metadata": {},
   "outputs": [],
   "source": [
    "'''\n",
    "#modules in py\n",
    "1. built-in-> mat,random,os,sys...\n",
    "2. userdefined -> sashi.py\n",
    "3. installed-> inbuilt installed modules numpy, 3Dplot, matplotlib, pyplot....\n",
    "import- methods / tecqnic\n",
    "import math - \n",
    "import math as m\n",
    "from mat import pi, sqrt, pow, factorial\n",
    "from math import *\n",
    "'''"
   ]
  },
  {
   "cell_type": "code",
   "execution_count": null,
   "id": "3b0e1d96-8de8-43e0-af0f-8a8d98a852b7",
   "metadata": {},
   "outputs": [],
   "source": [
    "#sashi.py file\n",
    "def add(a,b):\n",
    "    return a+b\n",
    "def sub(a,b):\n",
    "    return a-b\n",
    "    \n",
    "        "
   ]
  },
  {
   "cell_type": "code",
   "execution_count": 3,
   "id": "ae01aeeb-5c63-47a4-8da6-f72edfd27b49",
   "metadata": {},
   "outputs": [
    {
     "name": "stdin",
     "output_type": "stream",
     "text": [
      "enter value: 5\n",
      "enter value: 5\n"
     ]
    },
    {
     "name": "stdout",
     "output_type": "stream",
     "text": [
      "addition 10\n",
      "differece 0\n"
     ]
    }
   ],
   "source": [
    "import sashi\n",
    "x=int(input(\"enter value:\"))\n",
    "y=int(input(\"enter value:\"))\n",
    "print(\"addition\",sashi.add(x,y))\n",
    "print(\"differece\",sashi.sub(x,y))\n"
   ]
  },
  {
   "cell_type": "code",
   "execution_count": null,
   "id": "6209ea32-4c71-4084-8d1d-64804d183db9",
   "metadata": {},
   "outputs": [],
   "source": []
  }
 ],
 "metadata": {
  "kernelspec": {
   "display_name": "Python 3 (ipykernel)",
   "language": "python",
   "name": "python3"
  },
  "language_info": {
   "codemirror_mode": {
    "name": "ipython",
    "version": 3
   },
   "file_extension": ".py",
   "mimetype": "text/x-python",
   "name": "python",
   "nbconvert_exporter": "python",
   "pygments_lexer": "ipython3",
   "version": "3.12.7"
  }
 },
 "nbformat": 4,
 "nbformat_minor": 5
}
